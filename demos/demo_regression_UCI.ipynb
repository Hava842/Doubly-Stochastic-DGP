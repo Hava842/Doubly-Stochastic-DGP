{
 "cells": [
  {
   "cell_type": "markdown",
   "metadata": {},
   "source": [
    "# DGP for regression\n",
    "\n",
    "Here we'll show the DGP for regression, using small to medium data sets. "
   ]
  },
  {
   "cell_type": "code",
   "execution_count": 1,
   "metadata": {
    "collapsed": false
   },
   "outputs": [],
   "source": [
    "import sys\n",
    "sys.path.append('/homes/mlghomes/mh740/GPflow')\n",
    "sys.path.append('/homes/mlghomes/mh740/Doubly-Stochastic-DGP/doubly_stochastic_dgp')\n",
    "sys.path.append('/homes/mlghomes/mh740/Doubly-Stochastic-DGP/approx_EP_dgp')\n",
    "\n",
    "import os\n",
    "os.environ['CUDA_VISIBLE_DEVICES'] = '0'\n",
    "\n",
    "import numpy as np\n",
    "import tensorflow as tf\n",
    "import matplotlib.pyplot as plt\n",
    "%matplotlib inline \n",
    "\n",
    "from gpflow.likelihoods import Gaussian\n",
    "from gpflow.kernels import RBF, White\n",
    "from gpflow.mean_functions import Constant\n",
    "from gpflow.sgpr import SGPR, GPRFITC\n",
    "from gpflow.svgp import SVGP\n",
    "from gpflow.gpr import GPR\n",
    "\n",
    "from scipy.cluster.vq import kmeans2\n",
    "from sklearn.model_selection import ParameterGrid\n",
    "\n",
    "from get_data import get_regression_data\n",
    "from dgp import DGP\n",
    "from aepdgp import GPNetwork\n",
    "import time\n"
   ]
  },
  {
   "cell_type": "markdown",
   "metadata": {},
   "source": [
    "Let's use the kin8nm data set"
   ]
  },
  {
   "cell_type": "code",
   "execution_count": 2,
   "metadata": {
    "collapsed": false
   },
   "outputs": [
    {
     "name": "stdout",
     "output_type": "stream",
     "text": [
      "N: 7372, D: 8, Ns: 820\n"
     ]
    }
   ],
   "source": [
    "X, Y, Xs, Ys = get_regression_data('kin8nm', split=0)\n",
    "print 'N: {}, D: {}, Ns: {}'.format(X.shape[0], X.shape[1], Xs.shape[0])"
   ]
  },
  {
   "cell_type": "markdown",
   "metadata": {},
   "source": [
    "## Single layer models\n",
    "\n",
    "Our baseline model is a sparse GP, but since the dataset is small we can also train without minibatches so we'll also compare to a collapsed sparse GP (with analytically optimal $q(\\mathbf u)$) which is known as SGPR in GPflow terminology, and we'll also cpmpare to FITC"
   ]
  },
  {
   "cell_type": "code",
   "execution_count": 3,
   "metadata": {
    "collapsed": false
   },
   "outputs": [],
   "source": [
    "def make_single_layer_models(X, Y, Z):\n",
    "    D = X.shape[1]\n",
    "    Y_mean, Y_std = np.average(Y), np.std(Y) \n",
    "\n",
    "    m_sgpr = SGPR(X, Y, RBF(D, variance=Y_std**2), Z.copy(), mean_function=Constant(Y_mean))\n",
    "    m_svgp = SVGP(X, Y, RBF(D, variance=Y_std**2), Gaussian(), Z.copy(), mean_function=Constant(Y_mean))\n",
    "    m_fitc = GPRFITC(X, Y, RBF(D, variance=Y_std**2), Z.copy(), mean_function=Constant(Y_mean))\n",
    "\n",
    "    for m in [m_sgpr, m_svgp, m_fitc]:\n",
    "        m.mean_function.fixed = True\n",
    "        m.likelihood.variance = 0.1 * Y_std\n",
    "    return m_sgpr, m_svgp, m_fitc\n"
   ]
  },
  {
   "cell_type": "markdown",
   "metadata": {},
   "source": [
    "## DGP models\n",
    "\n",
    "We'll include a DGP with a single layer here for comparision. We've used a large minibatch size of $\\text{min}(10000, N)$, but it works just fine for smaller batches"
   ]
  },
  {
   "cell_type": "code",
   "execution_count": 4,
   "metadata": {
    "collapsed": true
   },
   "outputs": [],
   "source": [
    "def make_dgp(X, Y, inducing_points, final_inducing_points, hidden_units, units, share_inducing_inputs):\n",
    "    D = X.shape[1]\n",
    "    Y_mean, Y_std = np.average(Y), np.std(Y) \n",
    "    \n",
    "    model = DGP(X, Y, inducing_points, final_inducing_points, hidden_units, units, share_inducing_inputs)\n",
    "\n",
    "    # same final layer inits we used for the single layer model\n",
    "    model.likelihood.variance = Y_std*0.1\n",
    "    model.layers[-1].mean_function = Constant(Y_mean)\n",
    "    model.layers[-1].mean_function.fixed = True\n",
    "    \n",
    "    # start the inner layers almost deterministically \n",
    "    for layer in model.layers[:-1]:\n",
    "        for node in layer.nodes:\n",
    "            node.q_sqrt = node.q_sqrt.value * 1e-5\n",
    "    \n",
    "    return model\n",
    "\n",
    "def make_aepdgp(X, Y, ind_points, L, W):\n",
    "    layer_shape = [(W, ind_points)]*(L-1) + [(1, ind_points)]\n",
    "    return GPNetwork(X, Y, layer_shape, linear_mean=False)"
   ]
  },
  {
   "cell_type": "markdown",
   "metadata": {},
   "source": [
    "## Prediction\n",
    "\n",
    "We'll calculate test rmse and likelihood in batches (so the larger datasets don't cause memory problems)\n",
    "\n",
    "For the DGP models we need to take an average over the samples for the rmse. The `predict_density` function already does this internally\n"
   ]
  },
  {
   "cell_type": "code",
   "execution_count": null,
   "metadata": {
    "collapsed": true
   },
   "outputs": [],
   "source": [
    "def batch_assess(model, assess_model, X, Y):\n",
    "    n_batches = max(int(X.shape[0]/1000.), 1)\n",
    "    lik, sq_diff = [], []\n",
    "    for X_batch, Y_batch in zip(np.array_split(X, n_batches), np.array_split(Y, n_batches)):\n",
    "        l, sq = assess_model(model, X_batch, Y_batch)\n",
    "        lik.append(l)\n",
    "        sq_diff.append(sq)\n",
    "    lik = np.concatenate(lik, 0)\n",
    "    sq_diff = np.array(np.concatenate(sq_diff, 0), dtype=float)\n",
    "    return np.average(lik), np.average(sq_diff)**0.5\n",
    "\n",
    "def assess_single_layer(model, X_batch, Y_batch):\n",
    "    lik = model.predict_density(X_batch, Y_batch)\n",
    "    mean, var = model.predict_y(X_batch)\n",
    "    sq_diff = ((mean - Y_batch)**2)\n",
    "    return lik, sq_diff \n",
    "\n",
    "S = 100\n",
    "def assess_sampled(model, X_batch, Y_batch):\n",
    "    lik = model.predict_density(X_batch, Y_batch, S)\n",
    "    mean_samples, var_samples = model.predict_y(X_batch, 100)\n",
    "    mean = np.average(mean_samples, 0)\n",
    "    sq_diff = ((mean - Y_batch)**2)\n",
    "    return lik, sq_diff \n",
    "\n",
    "def assess_aepdgp(model, X_batch, Y_batch):\n",
    "    lik = model.predictBatchDensity(X_batch, Y_batch)\n",
    "    mean, var = model.predictBatch(X_batch)\n",
    "    sq_diff = ((mean - Y_batch)**2)\n",
    "    return lik, sq_diff "
   ]
  },
  {
   "cell_type": "markdown",
   "metadata": {},
   "source": [
    "## Training \n",
    "\n",
    "We'll optimize single layer models and using LFBGS and the dgp models with Adam. It will be interesting to compare the result of `m_svgp` compared to `m_dgp1`: if there is a difference it will be down to the optimizer. \n",
    "\n",
    "We need to take the data in batches to predict for the larger data sets, so we'll define that now"
   ]
  },
  {
   "cell_type": "code",
   "execution_count": null,
   "metadata": {
    "collapsed": false,
    "scrolled": true
   },
   "outputs": [
    {
     "name": "stdout",
     "output_type": "stream",
     "text": [
      "{'units': 1, 'final_inducing_points': 10, 'share_inducing_inputs': True, 'hidden_units': 0, 'inducing_points': 10}\n"
     ]
    }
   ],
   "source": [
    "grid = {'hidden_units': [0, 1, 2, 3, 4],\n",
    "        'inducing_points': [10, 50, 100],\n",
    "        'final_inducing_points': [10, 50, 100],\n",
    "        'units': [1, 2, 4, 8, 16, 32],\n",
    "        'share_inducing_inputs': [True, False]}\n",
    "\n",
    "for params in ParameterGrid(grid):\n",
    "    print(params)\n",
    "    Z = kmeans2(X, params['inducing_points'], minit='points')[0]\n",
    "    model = make_dgp(X, Y,\n",
    "                     params['inducing_points'],\n",
    "                     params['final_inducing_points'],\n",
    "                     params['hidden_units'],\n",
    "                     params['units'],\n",
    "                     params['share_inducing_inputs'])\n",
    "    t = time.time()\n",
    "    model.optimize(tf.train.AdamOptimizer(0.01), maxiter=5000)\n",
    "    lik, rmse = batch_assess(model, assess_sampled, X, Y)\n",
    "    print 'Training lik: {:.4f}, rmse: {:.4f}. Training time: {:.4f}'.format(lik, rmse, time.time() - t)\n",
    "    lik, rmse = batch_assess(model, assess_sampled, Xs, Ys)\n",
    "    print 'Test lik: {:.4f}, rmse: {:.4f}. Training time: {:.4f}'.format(lik, rmse, time.time() - t)\n"
   ]
  },
  {
   "cell_type": "code",
   "execution_count": null,
   "metadata": {
    "collapsed": false
   },
   "outputs": [],
   "source": [
    "for i in range(10):\n",
    "    print('iter', i)\n",
    "    for m, name in zip([m_dgp2_w, m_dgp2], ['dgp2_wide', 'dgp2']):\n",
    "        t = time.time()\n",
    "        m.optimize(tf.train.AdamOptimizer(0.01), maxiter=1000)\n",
    "        lik, rmse = batch_assess(m, assess_sampled, Xs, Ys)\n",
    "        print '{:<16}  lik: {:.4f}, rmse: {:.4f}. Training time: {:.4f}'.format(name, lik, rmse, time.time() - t)\n"
   ]
  },
  {
   "cell_type": "markdown",
   "metadata": {
    "collapsed": true
   },
   "source": [
    "Now for the non DGP models:"
   ]
  },
  {
   "cell_type": "code",
   "execution_count": null,
   "metadata": {
    "collapsed": false
   },
   "outputs": [],
   "source": [
    "single_layer_models = [m_sgpr, m_svgp, m_fitc, m_sgpr_500, m_svgp_500, m_fitc_500]\n",
    "single_layer_names = ['col sgp', 'sgp', 'fitc', 'col sgp 500', 'sgp 500', 'fitc 500']\n",
    "for m, name in zip(single_layer_models, single_layer_names):\n",
    "    t = time.time()\n",
    "    m.optimize()\n",
    "    lik, rmse = batch_assess(m, assess_single_layer, Xs, Ys)\n",
    "    print '{:<16}  lik: {:.4f}, rmse: {:.4f}. Training time: {:.4f}'.format(name, lik, rmse, time.time() - t)\n"
   ]
  },
  {
   "cell_type": "code",
   "execution_count": null,
   "metadata": {
    "collapsed": true
   },
   "outputs": [],
   "source": []
  }
 ],
 "metadata": {
  "kernelspec": {
   "display_name": "ve",
   "language": "python",
   "name": "ve"
  },
  "language_info": {
   "codemirror_mode": {
    "name": "ipython",
    "version": 2
   },
   "file_extension": ".py",
   "mimetype": "text/x-python",
   "name": "python",
   "nbconvert_exporter": "python",
   "pygments_lexer": "ipython2",
   "version": "2.7.6"
  }
 },
 "nbformat": 4,
 "nbformat_minor": 1
}
